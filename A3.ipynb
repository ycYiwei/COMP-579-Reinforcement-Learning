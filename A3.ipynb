{
  "cells": [
    {
      "cell_type": "code",
      "execution_count": null,
      "metadata": {
        "id": "SkiSTz0SV7vA"
      },
      "outputs": [],
      "source": [
        "import numpy as np\n",
        "import matplotlib.pyplot as plt\n",
        "import random"
      ]
    },
    {
      "cell_type": "code",
      "execution_count": null,
      "metadata": {
        "id": "oBkyGLwjeTYL"
      },
      "outputs": [],
      "source": [
        "!pip install gymnasium[classic-control]\n",
        "import gymnasium as gym"
      ]
    },
    {
      "cell_type": "code",
      "execution_count": null,
      "metadata": {
        "id": "AQceR15Y5tqv"
      },
      "outputs": [],
      "source": [
        "env = gym.make('CartPole-v1')"
      ]
    },
    {
      "cell_type": "code",
      "execution_count": null,
      "metadata": {
        "id": "DC4CpnA6Klty"
      },
      "outputs": [],
      "source": [
        "cart_pos_bin = np.linspace(-4.8,4.8,11)\n",
        "cart_v_bin = np.linspace(-2^8,2^8,11)\n",
        "pole_angle_bin = np.linspace(-0.418,0.418,11)\n",
        "pole_angularV_bin = np.linspace(-2^8,2^8,11)\n",
        "BINS = np.stack((cart_pos_bin, cart_v_bin, pole_angle_bin, pole_angularV_bin))"
      ]
    },
    {
      "cell_type": "markdown",
      "metadata": {
        "id": "k-7DGQPyFMDW"
      },
      "source": [
        "# Collect Data with Q-Learning"
      ]
    },
    {
      "cell_type": "code",
      "execution_count": null,
      "metadata": {
        "id": "oW_8CsKl4py-"
      },
      "outputs": [],
      "source": [
        "def one_hot(state):\n",
        "\n",
        "  '''\n",
        "  state: a (4,) numpy array from observation space\n",
        "  return: a (10000,) numpy array which is the one-hot encoding of the state\n",
        "          and index of the 1\n",
        "  '''\n",
        "\n",
        "  encoding = np.zeros(10000)\n",
        "  bin_indicies = np.zeros(4)\n",
        "\n",
        "  for i in range(4):\n",
        "    for j in range(10):\n",
        "      if state[i] >= BINS[i,j] and state[i] < BINS[i,j+1]:\n",
        "        bin_indicies[i] = j\n",
        "        break\n",
        "\n",
        "  index = 0\n",
        "  for i in range(4):\n",
        "    index += bin_indicies[i]*10**(3-i)\n",
        "\n",
        "  encoding[int(index)] = 1\n",
        "\n",
        "  return encoding, int(index)"
      ]
    },
    {
      "cell_type": "code",
      "execution_count": null,
      "metadata": {
        "id": "aG6tNWEB4kdF"
      },
      "outputs": [],
      "source": [
        "def epsilon_greedy(q, epsilon):\n",
        "\n",
        "  if (random.random() < epsilon):\n",
        "    action = random.randint(0,1) # pick a random action\n",
        "  else:\n",
        "    action = np.argmax(q) # greedy\n",
        "\n",
        "  return action"
      ]
    },
    {
      "cell_type": "code",
      "execution_count": null,
      "metadata": {
        "id": "0D7F84844fFN"
      },
      "outputs": [],
      "source": [
        "alpha = 1/4\n",
        "epsilon = 1\n",
        "gamma = 1\n",
        "decay = 0.99"
      ]
    },
    {
      "cell_type": "markdown",
      "source": [
        "## train"
      ],
      "metadata": {
        "id": "HnDkb2Aymv7U"
      }
    },
    {
      "cell_type": "code",
      "source": [
        "returns = np.zeros(1000)\n",
        "theta = np.random.uniform(-0.001, 0.001, (2,10000))\n",
        "\n",
        "for e in range(1000):\n",
        "\n",
        "    # start at random initial state\n",
        "    curr_state, info = env.reset()\n",
        "        \n",
        "    terminated = False\n",
        "    truncated = False\n",
        "        \n",
        "    while not terminated and not truncated:\n",
        "\n",
        "      feature, curr_state_idx = one_hot(curr_state)\n",
        "\n",
        "      # choose A from S using e-greedy\n",
        "      curr_action = epsilon_greedy(theta[:,curr_state_idx], epsilon)\n",
        "\n",
        "      # take action A, observe reward and next state\n",
        "      next_state, reward, terminated, truncated, info = env.step(curr_action)\n",
        "\n",
        "      # update Q(S,A)\n",
        "      if terminated:\n",
        "        target = reward\n",
        "      else:\n",
        "        _, next_state_idx = one_hot(next_state)\n",
        "        target = reward+gamma*np.max(theta[:,next_state_idx])\n",
        "          \n",
        "      theta[curr_action] += alpha*(target-theta[curr_action,curr_state_idx])*feature\n",
        "      curr_state = next_state\n",
        "      returns[e] += 1\n",
        "\n",
        "    epsilon *= decay\n",
        "    \n",
        "    if e%200==199:\n",
        "      print(returns[e])"
      ],
      "metadata": {
        "id": "VjjWrKCbQVJk",
        "colab": {
          "base_uri": "https://localhost:8080/"
        },
        "outputId": "c80332b1-4d1b-4272-9ab4-0e6fe29d6ebf"
      },
      "execution_count": null,
      "outputs": [
        {
          "output_type": "stream",
          "name": "stdout",
          "text": [
            "36.0\n",
            "290.0\n",
            "500.0\n",
            "176.0\n",
            "500.0\n"
          ]
        }
      ]
    },
    {
      "cell_type": "code",
      "source": [
        "from google.colab import drive\n",
        "drive.mount('/content/drive')"
      ],
      "metadata": {
        "colab": {
          "base_uri": "https://localhost:8080/"
        },
        "id": "sC7cLXrCl7Yv",
        "outputId": "0ae3355b-aa88-4b6f-f0a3-ac13e668a784"
      },
      "execution_count": null,
      "outputs": [
        {
          "output_type": "stream",
          "name": "stdout",
          "text": [
            "Mounted at /content/drive\n"
          ]
        }
      ]
    },
    {
      "cell_type": "code",
      "source": [
        "with open('/content/drive/My Drive/COMP 579/weights.txt', 'w') as f:\n",
        "  np.savetxt(f, theta)"
      ],
      "metadata": {
        "id": "MAkZ4Lbil_ED"
      },
      "execution_count": null,
      "outputs": []
    },
    {
      "cell_type": "code",
      "source": [
        "with open('/content/drive/My Drive/COMP 579/weights.txt', 'r') as f:\n",
        "  theta = np.loadtxt(f)"
      ],
      "metadata": {
        "id": "6MbexMhomMt6"
      },
      "execution_count": null,
      "outputs": []
    },
    {
      "cell_type": "markdown",
      "source": [
        "## gather 500 behavior episodes"
      ],
      "metadata": {
        "id": "EGkAhWlNmYuo"
      }
    },
    {
      "cell_type": "code",
      "source": [
        "expert_data = []\n",
        "\n",
        "for e in range(500):\n",
        "\n",
        "  curr_state, info = env.reset()\n",
        "        \n",
        "  terminated = False\n",
        "  truncated = False\n",
        "  \n",
        "  temp = []\n",
        "  while not terminated and not truncated:\n",
        "    _, curr_state_idx = one_hot(curr_state)\n",
        "    action = np.argmax(theta[:,curr_state_idx])\n",
        "    next_state, reward, terminated, truncated, info = env.step(action)\n",
        "    temp.append([curr_state, action, next_state, reward])\n",
        "    curr_state = next_state\n",
        "    \n",
        "  expert_data.append(temp)"
      ],
      "metadata": {
        "id": "VMD0FJtymYSu"
      },
      "execution_count": null,
      "outputs": []
    },
    {
      "cell_type": "code",
      "source": [
        "random_data = []\n",
        "\n",
        "for e in range(500):\n",
        "\n",
        "  curr_state, info = env.reset()\n",
        "        \n",
        "  terminated = False\n",
        "  truncated = False\n",
        "  \n",
        "  temp = []\n",
        "  while not terminated and not truncated:\n",
        "    action = random.randint(0,1)\n",
        "    next_state, reward, terminated, truncated, info = env.step(action)\n",
        "    temp.append([curr_state, action, next_state, reward])\n",
        "    curr_state = next_state\n",
        "  \n",
        "  random_data.append(temp)"
      ],
      "metadata": {
        "id": "pNYEpiAAKcJ0"
      },
      "execution_count": null,
      "outputs": []
    },
    {
      "cell_type": "markdown",
      "source": [
        "# Imitation Learning"
      ],
      "metadata": {
        "id": "_NaE8E5kvMyn"
      }
    },
    {
      "cell_type": "code",
      "source": [
        "class LogisticRegression:\n",
        "    \n",
        "    def __init__(self, add_bias=True, learning_rate=.1, epsilon=1e-4, max_iters=1e4, verbose=False):\n",
        "        self.add_bias = add_bias\n",
        "        self.learning_rate = learning_rate\n",
        "        self.epsilon = epsilon\n",
        "        self.max_iters = max_iters\n",
        "        self.verbose = verbose\n",
        "    \n",
        "    def gradient(self, x, y):\n",
        "        N,D = x.shape\n",
        "        yh = 1/(1+np.exp(-np.dot(x, self.w)))\n",
        "        grad = np.dot(x.T, (yh-y))/N\n",
        "        return grad\n",
        "\n",
        "    def fit(self, x, y):\n",
        "        if x.ndim == 1:\n",
        "            x = x[:, None]\n",
        "        if self.add_bias:\n",
        "            N = x.shape[0]\n",
        "            x = np.column_stack([x,np.ones(N)])\n",
        "        N,D = x.shape\n",
        "        self.w = np.zeros(D)\n",
        "        g = np.inf \n",
        "        t = 0\n",
        "        # gradient descent\n",
        "        while np.linalg.norm(g) > self.epsilon and t < self.max_iters:\n",
        "            g = self.gradient(x, y)\n",
        "            self.w = self.w - self.learning_rate * g \n",
        "            t += 1\n",
        "            #print(np.linalg.norm(g))\n",
        "        if self.verbose:\n",
        "            print(f'terminated after {t} iterations, with norm of the gradient equal to {np.linalg.norm(g)}')\n",
        "            print(f'the weight found: {self.w}')\n",
        "        return self\n",
        "    \n",
        "    def predict(self, x):\n",
        "        if x.ndim == 1:\n",
        "          x = x[:, None]\n",
        "          if self.add_bias:\n",
        "            x = np.vstack([x,[1]]).flatten()\n",
        "            return 1/(1+np.exp(-np.dot(x, self.w)))\n",
        "        Nt = x.shape[0]\n",
        "        if self.add_bias:\n",
        "            x = np.column_stack([x,np.ones(Nt)])\n",
        "        yh = 1/(1+np.exp(-np.dot(x, self.w)))\n",
        "        return yh"
      ],
      "metadata": {
        "id": "3zYitoHvdJCz"
      },
      "execution_count": null,
      "outputs": []
    },
    {
      "cell_type": "markdown",
      "source": [
        "## data processing"
      ],
      "metadata": {
        "id": "6rEHDeMGvfLT"
      }
    },
    {
      "cell_type": "code",
      "source": [
        "def process_data(dataset, x, y, idx1, idx2, mixed=False):\n",
        "\n",
        "  for i in range(500):\n",
        "\n",
        "    if mixed:\n",
        "      random.seed(i)\n",
        "      dice = random.random()\n",
        "      if dice < 0.5:\n",
        "        dataset = expert_data\n",
        "      else:\n",
        "        dataset = random_data\n",
        "    steps = len(dataset[i])\n",
        "\n",
        "    for j in range(steps):\n",
        "\n",
        "      state = dataset[i][j][idx1]\n",
        "      action = dataset[i][j][idx2]\n",
        "\n",
        "      if i==0 and j==0:\n",
        "        temp_x = state\n",
        "        temp_y = [action]\n",
        "      else:\n",
        "        temp_x = np.vstack((temp_x, state))\n",
        "        temp_y.append(action)\n",
        "        if (i==99 or i==249 or i==499) and j==steps-1:\n",
        "          x.append(temp_x)\n",
        "          y.append(np.array(temp_y))\n",
        "    \n",
        "  return x,y"
      ],
      "metadata": {
        "id": "epMmTc2-sqH7"
      },
      "execution_count": null,
      "outputs": []
    },
    {
      "cell_type": "code",
      "source": [
        "x, y = process_data(expert_data, [], [], 0, 1)\n",
        "x, y = process_data([], x, y, 0, 1, mixed=True)\n",
        "x, y = process_data(random_data, x, y, 0, 1)"
      ],
      "metadata": {
        "id": "XHuJL67-vAKz"
      },
      "execution_count": null,
      "outputs": []
    },
    {
      "cell_type": "markdown",
      "source": [
        "## test estimator"
      ],
      "metadata": {
        "id": "KjIqa9FTvSvo"
      }
    },
    {
      "cell_type": "code",
      "source": [
        "returns = np.zeros((9,2,100))\n",
        "learning_rates = [0.1, 0.01]\n",
        "\n",
        "for i in range(9):\n",
        "  for j, lr in enumerate(learning_rates):\n",
        "    \n",
        "    model = LogisticRegression(learning_rate=lr)\n",
        "    model.fit(x[i],y[i])\n",
        "\n",
        "    for e in range(100):\n",
        "      \n",
        "      curr_state, info = env.reset()\n",
        "            \n",
        "      terminated = False\n",
        "      truncated = False\n",
        "      \n",
        "      while not terminated and not truncated:\n",
        "        if model.predict(curr_state) > 0.5:\n",
        "          action = 1\n",
        "        else:\n",
        "          action = 0\n",
        "        next_state, reward, terminated, truncated, info = env.step(action)\n",
        "        curr_state = next_state\n",
        "        returns[i,j,e] += 1\n"
      ],
      "metadata": {
        "id": "rJSrDTmZD9_N"
      },
      "execution_count": null,
      "outputs": []
    },
    {
      "cell_type": "code",
      "source": [
        "imitation_avg_returns = np.mean(returns, axis=2)\n",
        "imitation_stderr = np.std(returns, axis=2)/10"
      ],
      "metadata": {
        "id": "FJ-94E6ljgxz"
      },
      "execution_count": null,
      "outputs": []
    },
    {
      "cell_type": "code",
      "source": [
        "imitation_avg_returns"
      ],
      "metadata": {
        "id": "DPqZwOMISl2H",
        "outputId": "793dac0a-57c3-4c8f-f320-b376fac7aaaa",
        "colab": {
          "base_uri": "https://localhost:8080/"
        }
      },
      "execution_count": null,
      "outputs": [
        {
          "output_type": "execute_result",
          "data": {
            "text/plain": [
              "array([[500.  , 246.17],\n",
              "       [500.  , 230.47],\n",
              "       [500.  , 213.09],\n",
              "       [500.  , 226.87],\n",
              "       [500.  , 205.84],\n",
              "       [500.  , 183.48],\n",
              "       [  9.35,   9.36],\n",
              "       [  9.35,   9.31],\n",
              "       [  9.37,   9.25]])"
            ]
          },
          "metadata": {},
          "execution_count": 15
        }
      ]
    },
    {
      "cell_type": "code",
      "source": [
        "with open('/content/drive/My Drive/COMP 579/imitation_avg.txt', 'w') as f:\n",
        "  np.savetxt(f, imitation_avg_returns)\n",
        "\n",
        "with open('/content/drive/My Drive/COMP 579/imitation_stderr.txt', 'w') as f:\n",
        "  np.savetxt(f, imitation_stderr)"
      ],
      "metadata": {
        "id": "Vo4ujK_tfi9-"
      },
      "execution_count": null,
      "outputs": []
    },
    {
      "cell_type": "markdown",
      "source": [
        "# Fitted Q-Learning"
      ],
      "metadata": {
        "id": "liB6SFKRq4pg"
      }
    },
    {
      "cell_type": "code",
      "source": [
        "# lists of 9 arrays of length N (# of steps)\n",
        "curr_states = x\n",
        "actions = y\n",
        "s, r = process_data(expert_data, [], [], 2, 3)\n",
        "s, r = process_data([], s, r, 2, 3, mixed=True)\n",
        "s, r = process_data(random_data, s, r, 2, 3)\n",
        "next_states = s\n",
        "rewards = r"
      ],
      "metadata": {
        "id": "mG0iY2cRr4FN"
      },
      "execution_count": null,
      "outputs": []
    },
    {
      "cell_type": "code",
      "source": [
        "def Q(state_array, phi):\n",
        "  '''\n",
        "  inputs: state_array (N,4), phi (10000,2)\n",
        "  output: q (N,2)\n",
        "  '''\n",
        "  q = np.zeros((len(state_array),2))\n",
        "  for i in range(len(state_array)):\n",
        "    _, idx = one_hot(state_array[i])\n",
        "    q[i] = phi[idx]\n",
        "  return q"
      ],
      "metadata": {
        "id": "KKfkNqj4c6QH"
      },
      "execution_count": null,
      "outputs": []
    },
    {
      "cell_type": "code",
      "source": [
        "returns = np.zeros((9,2,100))\n",
        "learning_rates = [0.1, 0.01]\n",
        "gamma = 0.99\n",
        "max_iters = 100\n",
        "K = 10\n",
        "\n",
        "for i in range(9):\n",
        "\n",
        "  for j, lr in enumerate(learning_rates):\n",
        "    \n",
        "    phi = np.random.uniform(-0.001, 0.001, (10000,2))\n",
        "\n",
        "    # dataset for a particular condition\n",
        "    curr_state = curr_states[i]   # N*4\n",
        "    action = actions[i]           # N\n",
        "    next_state = next_states[i]   # N*4\n",
        "    reward = rewards[i]           # N\n",
        "\n",
        "    # train\n",
        "    for k in range(K):\n",
        "      y = reward + gamma*np.max(Q(next_state, phi), axis=1)  # N\n",
        "      for s in range(len(y)):\n",
        "        _, idx = one_hot(curr_state[s])\n",
        "        phi[idx,action[s]] += lr * (y[s] - phi[idx,action[s]])\n",
        "      ''' alternative implementation of gradient descent that \n",
        "      makes more sense but have every large time/space complexity:\n",
        "      for t in range(max_iters):\n",
        "        phi[:,0] += lr * (y - feature@phi[:,0]) @ feature\n",
        "        phi[:,1] += lr * (y - feature@phi[:,1]) @ feature\n",
        "      where feature is a N*10000 sparse matrix\n",
        "      '''\n",
        "\n",
        "    # test\n",
        "    for e in range(100):\n",
        "      cs, info = env.reset()\n",
        "      terminated = False\n",
        "      truncated = False\n",
        "      while not terminated and not truncated:\n",
        "        _, idx = one_hot(cs)\n",
        "        a = np.argmax(phi[idx])\n",
        "        ns, r, terminated, truncated, info = env.step(a)\n",
        "        cs = ns\n",
        "        returns[i,j,e] += 1"
      ],
      "metadata": {
        "id": "UMH5nJVEq7Up"
      },
      "execution_count": null,
      "outputs": []
    },
    {
      "cell_type": "code",
      "source": [
        "fittedQ_avg_return = np.mean(returns, axis=2)\n",
        "fittedQ_stderr = np.std(returns, axis=2)/10"
      ],
      "metadata": {
        "id": "IHTaeF2p5NkP"
      },
      "execution_count": null,
      "outputs": []
    },
    {
      "cell_type": "code",
      "source": [
        "with open('/content/drive/My Drive/COMP 579/fittedQ_avg.txt', 'w') as f:\n",
        "  np.savetxt(f, fittedQ_avg_return)\n",
        "\n",
        "with open('/content/drive/My Drive/COMP 579/fittedQ_stderr.txt', 'w') as f:\n",
        "  np.savetxt(f, fittedQ_stderr)"
      ],
      "metadata": {
        "id": "Yo0i0oWjgRzI"
      },
      "execution_count": null,
      "outputs": []
    },
    {
      "cell_type": "markdown",
      "source": [
        "# Plot"
      ],
      "metadata": {
        "id": "YEVniHO8i46s"
      }
    },
    {
      "cell_type": "code",
      "source": [
        "with open('/content/drive/My Drive/COMP 579/imitation_avg.txt', 'r') as f:\n",
        "  imitation_avg_returns = np.loadtxt(f)\n",
        "\n",
        "with open('/content/drive/My Drive/COMP 579/imitation_stderr.txt', 'r') as f:\n",
        "  imitation_stderr = np.loadtxt(f)"
      ],
      "metadata": {
        "id": "URX_VtuhkOXp"
      },
      "execution_count": null,
      "outputs": []
    },
    {
      "cell_type": "code",
      "source": [
        "with open('/content/drive/My Drive/COMP 579/fittedQ_avg.txt', 'r') as f:\n",
        "  fittedQ_avg_returns = np.loadtxt(f)\n",
        "\n",
        "with open('/content/drive/My Drive/COMP 579/fittedQ_stderr.txt', 'r') as f:\n",
        "  fittedQ_stderr = np.loadtxt(f)"
      ],
      "metadata": {
        "id": "8cFHi1dOgUQj"
      },
      "execution_count": null,
      "outputs": []
    },
    {
      "cell_type": "code",
      "source": [
        "# average return of the expert and random policy\n",
        "expert_avg = np.sum(rewards[2])/500\n",
        "random_avg = np.sum(rewards[8])/500"
      ],
      "metadata": {
        "id": "pv0_PJa5i6gS"
      },
      "execution_count": null,
      "outputs": []
    },
    {
      "cell_type": "code",
      "source": [
        "def reshape(array):\n",
        "  ''' i dont know what i was thinking\n",
        "  input (9,2)                     output (2,3,3)\n",
        "  [[exp100lr1,  exp100lr2],       [[[exp100lr1, mix100lr1, rand100lr1],\n",
        "   [exp250lr1,  exp250lr2],         [exp250lr1, mix250lr1, rand250lr1],\n",
        "   [exp500lr1,  exp500lr2],         [exp500lr1, mix500lr1, rand500lr1]],\n",
        "   [mix100lr1,  mix100lr2],        [[exp100lr2, mix100lr2, rand100lr2],\n",
        "   [mix250lr1,  mix250lr2],         [exp250lr2, mix250lr2, rand250lr2],\n",
        "   [mix500lr1,  mix500lr2],         [exp500lr2, mix500lr2, rand500lr2]]]\n",
        "   [rand100lr1, rand100lr2],\n",
        "   [rand250lr1, rand250lr2],\n",
        "   [rand500lr1, rand500lr2]]\n",
        "  '''\n",
        "  lr1 = np.zeros((3,3))\n",
        "  lr2 = np.zeros((3,3))\n",
        "  lr1[:,0] = array.T[0,:3]\n",
        "  lr1[:,1] = array.T[0,3:6]\n",
        "  lr1[:,2] = array.T[0,6:]\n",
        "  lr2[:,0] = array.T[1,:3]\n",
        "  lr2[:,1] = array.T[1,3:6]\n",
        "  lr2[:,2] = array.T[1,6:]\n",
        "  return np.stack([lr1, lr2])"
      ],
      "metadata": {
        "id": "34R1TO_mqfyd"
      },
      "execution_count": null,
      "outputs": []
    },
    {
      "cell_type": "code",
      "source": [
        "imitation_avg_returns = reshape(imitation_avg_returns)\n",
        "imitation_stderr = reshape(imitation_stderr)\n",
        "fittedQ_avg_returns = reshape(fittedQ_avg_returns)\n",
        "fittedQ_stderr = reshape(fittedQ_stderr)"
      ],
      "metadata": {
        "id": "GlbKVuq6sTPT"
      },
      "execution_count": null,
      "outputs": []
    },
    {
      "cell_type": "code",
      "source": [
        "learning_rates = [0.1, 0.01]\n",
        "dataset_sizes = [100, 250, 500]\n",
        "\n",
        "X = ['expert', 'mixed', 'random']\n",
        "X_axis = np.arange(len(X))\n",
        "\n",
        "fig, axs = plt.subplots(2,3,figsize=(21,9))\n",
        "\n",
        "for i in range(2):\n",
        "  for j in range(3):\n",
        "\n",
        "    axs[i,j].bar(X_axis - 0.2, imitation_avg_returns[i,j], yerr=imitation_stderr[i,j], width=0.4, label='imitation learning')\n",
        "    axs[i,j].bar(X_axis + 0.2, fittedQ_avg_returns[i,j], yerr=fittedQ_stderr[i,j], width=0.4, label='fitted Q-learning')\n",
        "    axs[i,j].plot(np.arange(4)-0.5, np.ones(4)*expert_avg, label='expert', color='C2', linewidth=2)\n",
        "    axs[i,j].plot(np.arange(4)-0.5, np.ones(4)*random_avg, label='random', color='C3', linewidth=2)\n",
        "\n",
        "    axs[i,j].set_xticks(X_axis, X)\n",
        "    axs[i,j].set_ylabel(\"Average Return\")\n",
        "    axs[i,j].set_title(\"learning rate = \"+str(learning_rates[i])+\", dataset size = \"+str(dataset_sizes[j])+\" episodes\")\n",
        "    axs[i,j].legend()\n",
        "\n",
        "fig.tight_layout(pad=3)"
      ],
      "metadata": {
        "colab": {
          "base_uri": "https://localhost:8080/",
          "height": 472
        },
        "id": "IxNLCukykdwz",
        "outputId": "8a7ecbb2-3d4e-4ebc-9df2-d0b5248b9ca0"
      },
      "execution_count": null,
      "outputs": [
        {
          "output_type": "display_data",
          "data": {
            "text/plain": [
              "<Figure size 2100x900 with 6 Axes>"
            ],
            "image/png": "[encoded data removed]"
          },
          "metadata": {}
        }
      ]
    }
  ],
  "metadata": {
    "colab": {
      "provenance": []
    },
    "kernelspec": {
      "display_name": "Python 3",
      "name": "python3"
    },
    "language_info": {
      "name": "python"
    }
  },
  "nbformat": 4,
  "nbformat_minor": 0
}